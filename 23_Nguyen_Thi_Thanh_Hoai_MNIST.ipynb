{
  "nbformat": 4,
  "nbformat_minor": 0,
  "metadata": {
    "colab": {
      "provenance": []
    },
    "kernelspec": {
      "name": "python3",
      "display_name": "Python 3"
    },
    "language_info": {
      "name": "python"
    }
  },
  "cells": [
    {
      "cell_type": "code",
      "source": [
        "# 1. Thêm các thư viện cần thiết\n",
        "import numpy as np\n",
        "import matplotlib.pyplot as plt\n",
        "from keras.models import Sequential\n",
        "from keras.layers import Dense, Dropout, Activation, Flatten\n",
        "from keras.layers import Conv2D, MaxPooling2D\n",
        "from tensorflow.keras.utils import to_categorical\n",
        "from keras.datasets import mnist\n",
        "\n",
        "# 2. Load dữ liệu MNIST\n",
        "(X_train, y_train), (X_test, y_test) = mnist.load_data()\n",
        "X_val, y_val = X_train[50000:60000,:], y_train[50000:60000]\n",
        "X_train, y_train = X_train[:50000,:], y_train[:50000]\n",
        "print(X_train.shape)\n",
        "\n",
        "# 3. Reshape lại dữ liệu cho đúng kích thước mà keras yêu cầu\n",
        "X_train = X_train.reshape(X_train.shape[0], 28, 28, 1)\n",
        "X_val = X_val.reshape(X_val.shape[0], 28, 28, 1)\n",
        "X_test = X_test.reshape(X_test.shape[0], 28, 28, 1)\n",
        "\n",
        "# 4. One hot encoding label (Y)\n",
        "Y_train = to_categorical(y_train, 10)\n",
        "Y_val = to_categorical(y_val, 10)\n",
        "Y_test = to_categorical(y_test, 10)\n",
        "print('Dữ liệu y ban đầu ', y_train[0])\n",
        "print('Dữ liệu y sau one-hot encoding ', Y_train[0])\n",
        "\n",
        "# 5. Định nghĩa model\n",
        "model = Sequential()\n",
        "model.add(Conv2D(32, (3, 3), activation='sigmoid', input_shape=(28,28,1)))\n",
        "model.add(Conv2D(32, (3, 3), activation='sigmoid'))\n",
        "model.add(MaxPooling2D(pool_size=(2,2)))\n",
        "model.add(Flatten())\n",
        "model.add(Dense(128, activation='sigmoid'))\n",
        "model.add(Dense(10, activation='softmax'))\n",
        "\n",
        "# 6. Compile model\n",
        "model.compile(loss='categorical_crossentropy', optimizer='adam', metrics=['accuracy'])\n",
        "\n",
        "# 7. Thực hiện train model với data\n",
        "H = model.fit(X_train, Y_train, validation_data=(X_val, Y_val), batch_size=32, epochs=10, verbose=1)\n",
        "\n",
        "# 8. Vẽ đồ thị loss, accuracy của training set và validation set\n",
        "fig = plt.figure()\n",
        "numOfEpoch = 10\n",
        "plt.plot(np.arange(0, numOfEpoch), H.history['loss'], label='training loss')\n",
        "plt.plot(np.arange(0, numOfEpoch), H.history['val_loss'], label='validation loss')\n",
        "plt.plot(np.arange(0, numOfEpoch), H.history['accuracy'], label='accuracy')\n",
        "plt.plot(np.arange(0, numOfEpoch), H.history['val_accuracy'], label='validation accuracy')\n",
        "plt.title('Accuracy and Loss')\n",
        "plt.xlabel('Epoch')\n",
        "plt.ylabel('Loss|Accuracy')\n",
        "plt.legend()\n",
        "plt.show()\n",
        "\n",
        "# 9. Đánh giá model với dữ liệu test set\n",
        "score = model.evaluate(X_test, Y_test, verbose=0)\n",
        "print(score)\n",
        "\n",
        "# 10. Dự đoán ảnh từ dữ liệu test set\n",
        "plt.imshow(X_test[0].reshape(28,28), cmap='gray')\n",
        "y_predict = model.predict(X_test[0].reshape(1,28,28,1))\n",
        "print('Giá trị dự đoán: ', np.argmax(y_predict))\n",
        "\n",
        "# 11. Dự đoán ảnh tự viết\n",
        "import os\n",
        "import cv2\n",
        "\n",
        "def predict_digit(image_path, model):\n",
        "    img = cv2.imread(image_path, cv2.IMREAD_GRAYSCALE)\n",
        "    if img is None:\n",
        "        print(f\"Error: Could not load image from {image_path}\")\n",
        "        return -1\n",
        "    img = cv2.resize(img, (28, 28))\n",
        "    if np.mean(img) > 128:\n",
        "        img = 255 - img\n",
        "    img = img.astype('float32') / 255\n",
        "    img = np.expand_dims(img, axis=-1)\n",
        "    img = np.expand_dims(img, axis=0)\n",
        "    prediction = model.predict(img)\n",
        "    predicted_digit = np.argmax(prediction, axis=-1)[0]\n",
        "    return predicted_digit\n",
        "\n",
        "image_folder = '/content/drive/My Drive/pics'\n",
        "for filename in os.listdir(image_folder):\n",
        "    image_path = os.path.join(image_folder, filename)\n",
        "    predicted_digit = predict_digit(image_path, model)\n",
        "    if predicted_digit != -1:\n",
        "        img = cv2.imread(image_path, cv2.IMREAD_GRAYSCALE)\n",
        "        plt.imshow(img, cmap='gray')\n",
        "        plt.title(f'Predicted: {predicted_digit}')\n",
        "        plt.show()\n",
        "        print(f'Predicted digit: {predicted_digit}')\n"
      ],
      "metadata": {
        "colab": {
          "base_uri": "https://localhost:8080/"
        },
        "id": "egHckuLZCbUC",
        "outputId": "68466b85-ae12-4eb0-dbfb-140266108345"
      },
      "execution_count": null,
      "outputs": [
        {
          "output_type": "stream",
          "name": "stdout",
          "text": [
            "(50000, 28, 28)\n",
            "Dữ liệu y ban đầu  5\n",
            "Dữ liệu y sau one-hot encoding  [0. 0. 0. 0. 0. 1. 0. 0. 0. 0.]\n"
          ]
        },
        {
          "output_type": "stream",
          "name": "stderr",
          "text": [
            "/usr/local/lib/python3.10/dist-packages/keras/src/layers/convolutional/base_conv.py:107: UserWarning: Do not pass an `input_shape`/`input_dim` argument to a layer. When using Sequential models, prefer using an `Input(shape)` object as the first layer in the model instead.\n",
            "  super().__init__(activity_regularizer=activity_regularizer, **kwargs)\n"
          ]
        },
        {
          "output_type": "stream",
          "name": "stdout",
          "text": [
            "Epoch 1/10\n",
            "\u001b[1m 444/1563\u001b[0m \u001b[32m━━━━━\u001b[0m\u001b[37m━━━━━━━━━━━━━━━\u001b[0m \u001b[1m1:26\u001b[0m 78ms/step - accuracy: 0.5103 - loss: 1.5745"
          ]
        }
      ]
    }
  ]
}